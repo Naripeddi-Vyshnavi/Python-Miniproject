{
 "cells": [
  {
   "cell_type": "markdown",
   "metadata": {},
   "source": [
    "# Generate an OTP and Send it to User's E-mail Address in PYTHON\n"
   ]
  },
  {
   "cell_type": "markdown",
   "metadata": {},
   "source": [
    "### STEPS:\n",
    "\n",
    "1.Generate OTP - using random module\n",
    "\n",
    "2.Send OTP to user's email address - SMIPlib Module\n"
   ]
  },
  {
   "cell_type": "code",
   "execution_count": 4,
   "metadata": {},
   "outputs": [
    {
     "data": {
      "text/plain": [
       "(221,\n",
       " b'2.0.0 closing connection l17-20020a637011000000b0037d5eac87e3sm13707954pgc.18 - gsmtp')"
      ]
     },
     "execution_count": 4,
     "metadata": {},
     "output_type": "execute_result"
    }
   ],
   "source": [
    "import random\n",
    "import smtplib\n",
    "server=smtplib.SMTP('smtp.gmail.com',587)\n",
    "#adding TLS security \n",
    "server.starttls()      \n",
    "password='16digitapppassword'\n",
    "server.login('senderemail@gmail.com','password')\n",
    "#generate OTP using random.randint() function\n",
    "otp=''.join([str(random.randint(0,9)) for i in range(4)])\n",
    "msg='Hello, Your OTP is '+str(otp)\n",
    "sender='senderemail@gmail.com'  #write email id of sender\n",
    "receiver='receiveremail4@gmail.com' #write email of receiver\n",
    "server.sendmail(sender,receiver,msg)\n",
    "server.quit()"
   ]
  },
  {
   "cell_type": "code",
   "execution_count": null,
   "metadata": {},
   "outputs": [],
   "source": []
  }
 ],
 "metadata": {
  "kernelspec": {
   "display_name": "Python 3",
   "language": "python",
   "name": "python3"
  },
  "language_info": {
   "codemirror_mode": {
    "name": "ipython",
    "version": 3
   },
   "file_extension": ".py",
   "mimetype": "text/x-python",
   "name": "python",
   "nbconvert_exporter": "python",
   "pygments_lexer": "ipython3",
   "version": "3.8.5"
  }
 },
 "nbformat": 4,
 "nbformat_minor": 4
}
